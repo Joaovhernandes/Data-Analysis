{
 "cells": [
  {
   "cell_type": "code",
   "execution_count": 340,
   "id": "5e873812",
   "metadata": {},
   "outputs": [],
   "source": [
    "import pandas as pd\n",
    "import plotly.express as px\n",
    "import matplotlib.pyplot as plt\n",
    "import seaborn as sns\n",
    "pd.set_option('display.float_format', lambda x: '%.2f' % x)"
   ]
  },
  {
   "cell_type": "code",
   "execution_count": null,
   "id": "7e857175",
   "metadata": {},
   "outputs": [],
   "source": []
  },
  {
   "cell_type": "code",
   "execution_count": 341,
   "id": "b6b1ea3a",
   "metadata": {},
   "outputs": [
    {
     "name": "stderr",
     "output_type": "stream",
     "text": [
      "C:\\Users\\jvito\\anaconda3\\lib\\site-packages\\IPython\\core\\interactiveshell.py:3444: DtypeWarning: Columns (17) have mixed types.Specify dtype option on import or set low_memory=False.\n",
      "  exec(code_obj, self.user_global_ns, self.user_ns)\n"
     ]
    },
    {
     "name": "stdout",
     "output_type": "stream",
     "text": [
      "(38277, 18)\n"
     ]
    },
    {
     "data": {
      "text/html": [
       "<div>\n",
       "<style scoped>\n",
       "    .dataframe tbody tr th:only-of-type {\n",
       "        vertical-align: middle;\n",
       "    }\n",
       "\n",
       "    .dataframe tbody tr th {\n",
       "        vertical-align: top;\n",
       "    }\n",
       "\n",
       "    .dataframe thead th {\n",
       "        text-align: right;\n",
       "    }\n",
       "</style>\n",
       "<table border=\"1\" class=\"dataframe\">\n",
       "  <thead>\n",
       "    <tr style=\"text-align: right;\">\n",
       "      <th></th>\n",
       "      <th>id</th>\n",
       "      <th>name</th>\n",
       "      <th>host_id</th>\n",
       "      <th>host_name</th>\n",
       "      <th>neighbourhood_group</th>\n",
       "      <th>neighbourhood</th>\n",
       "      <th>latitude</th>\n",
       "      <th>longitude</th>\n",
       "      <th>room_type</th>\n",
       "      <th>price</th>\n",
       "      <th>minimum_nights</th>\n",
       "      <th>number_of_reviews</th>\n",
       "      <th>last_review</th>\n",
       "      <th>reviews_per_month</th>\n",
       "      <th>calculated_host_listings_count</th>\n",
       "      <th>availability_365</th>\n",
       "      <th>number_of_reviews_ltm</th>\n",
       "      <th>license</th>\n",
       "    </tr>\n",
       "  </thead>\n",
       "  <tbody>\n",
       "    <tr>\n",
       "      <th>0</th>\n",
       "      <td>2595</td>\n",
       "      <td>Skylit Midtown Castle</td>\n",
       "      <td>2845</td>\n",
       "      <td>Jennifer</td>\n",
       "      <td>Manhattan</td>\n",
       "      <td>Midtown</td>\n",
       "      <td>40.75</td>\n",
       "      <td>-73.99</td>\n",
       "      <td>Entire home/apt</td>\n",
       "      <td>150</td>\n",
       "      <td>30</td>\n",
       "      <td>48</td>\n",
       "      <td>2019-11-04</td>\n",
       "      <td>0.33</td>\n",
       "      <td>3</td>\n",
       "      <td>338</td>\n",
       "      <td>0</td>\n",
       "      <td>NaN</td>\n",
       "    </tr>\n",
       "    <tr>\n",
       "      <th>1</th>\n",
       "      <td>3831</td>\n",
       "      <td>Whole flr w/private bdrm, bath &amp; kitchen(pls r...</td>\n",
       "      <td>4869</td>\n",
       "      <td>LisaRoxanne</td>\n",
       "      <td>Brooklyn</td>\n",
       "      <td>Bedford-Stuyvesant</td>\n",
       "      <td>40.68</td>\n",
       "      <td>-73.96</td>\n",
       "      <td>Entire home/apt</td>\n",
       "      <td>75</td>\n",
       "      <td>1</td>\n",
       "      <td>409</td>\n",
       "      <td>2021-10-22</td>\n",
       "      <td>4.86</td>\n",
       "      <td>1</td>\n",
       "      <td>194</td>\n",
       "      <td>32</td>\n",
       "      <td>NaN</td>\n",
       "    </tr>\n",
       "    <tr>\n",
       "      <th>2</th>\n",
       "      <td>5121</td>\n",
       "      <td>BlissArtsSpace!</td>\n",
       "      <td>7356</td>\n",
       "      <td>Garon</td>\n",
       "      <td>Brooklyn</td>\n",
       "      <td>Bedford-Stuyvesant</td>\n",
       "      <td>40.69</td>\n",
       "      <td>-73.96</td>\n",
       "      <td>Private room</td>\n",
       "      <td>60</td>\n",
       "      <td>30</td>\n",
       "      <td>50</td>\n",
       "      <td>2016-06-05</td>\n",
       "      <td>0.52</td>\n",
       "      <td>2</td>\n",
       "      <td>365</td>\n",
       "      <td>0</td>\n",
       "      <td>NaN</td>\n",
       "    </tr>\n",
       "    <tr>\n",
       "      <th>3</th>\n",
       "      <td>5136</td>\n",
       "      <td>Spacious Brooklyn Duplex, Patio + Garden</td>\n",
       "      <td>7378</td>\n",
       "      <td>Rebecca</td>\n",
       "      <td>Brooklyn</td>\n",
       "      <td>Sunset Park</td>\n",
       "      <td>40.66</td>\n",
       "      <td>-73.99</td>\n",
       "      <td>Entire home/apt</td>\n",
       "      <td>275</td>\n",
       "      <td>5</td>\n",
       "      <td>2</td>\n",
       "      <td>2021-08-08</td>\n",
       "      <td>0.02</td>\n",
       "      <td>1</td>\n",
       "      <td>123</td>\n",
       "      <td>1</td>\n",
       "      <td>NaN</td>\n",
       "    </tr>\n",
       "    <tr>\n",
       "      <th>4</th>\n",
       "      <td>5178</td>\n",
       "      <td>Large Furnished Room Near B'way</td>\n",
       "      <td>8967</td>\n",
       "      <td>Shunichi</td>\n",
       "      <td>Manhattan</td>\n",
       "      <td>Midtown</td>\n",
       "      <td>40.76</td>\n",
       "      <td>-73.98</td>\n",
       "      <td>Private room</td>\n",
       "      <td>68</td>\n",
       "      <td>2</td>\n",
       "      <td>507</td>\n",
       "      <td>2021-11-08</td>\n",
       "      <td>3.68</td>\n",
       "      <td>1</td>\n",
       "      <td>192</td>\n",
       "      <td>33</td>\n",
       "      <td>NaN</td>\n",
       "    </tr>\n",
       "  </tbody>\n",
       "</table>\n",
       "</div>"
      ],
      "text/plain": [
       "     id                                               name  host_id  \\\n",
       "0  2595                              Skylit Midtown Castle     2845   \n",
       "1  3831  Whole flr w/private bdrm, bath & kitchen(pls r...     4869   \n",
       "2  5121                                    BlissArtsSpace!     7356   \n",
       "3  5136           Spacious Brooklyn Duplex, Patio + Garden     7378   \n",
       "4  5178                   Large Furnished Room Near B'way　     8967   \n",
       "\n",
       "     host_name neighbourhood_group       neighbourhood  latitude  longitude  \\\n",
       "0     Jennifer           Manhattan             Midtown     40.75     -73.99   \n",
       "1  LisaRoxanne            Brooklyn  Bedford-Stuyvesant     40.68     -73.96   \n",
       "2        Garon            Brooklyn  Bedford-Stuyvesant     40.69     -73.96   \n",
       "3      Rebecca            Brooklyn         Sunset Park     40.66     -73.99   \n",
       "4     Shunichi           Manhattan             Midtown     40.76     -73.98   \n",
       "\n",
       "         room_type  price  minimum_nights  number_of_reviews last_review  \\\n",
       "0  Entire home/apt    150              30                 48  2019-11-04   \n",
       "1  Entire home/apt     75               1                409  2021-10-22   \n",
       "2     Private room     60              30                 50  2016-06-05   \n",
       "3  Entire home/apt    275               5                  2  2021-08-08   \n",
       "4     Private room     68               2                507  2021-11-08   \n",
       "\n",
       "   reviews_per_month  calculated_host_listings_count  availability_365  \\\n",
       "0               0.33                               3               338   \n",
       "1               4.86                               1               194   \n",
       "2               0.52                               2               365   \n",
       "3               0.02                               1               123   \n",
       "4               3.68                               1               192   \n",
       "\n",
       "   number_of_reviews_ltm license  \n",
       "0                      0     NaN  \n",
       "1                     32     NaN  \n",
       "2                      0     NaN  \n",
       "3                      1     NaN  \n",
       "4                     33     NaN  "
      ]
     },
     "execution_count": 341,
     "metadata": {},
     "output_type": "execute_result"
    }
   ],
   "source": [
    "data=pd.read_csv('C:/Users/jvito/Repos - Python/datasets/New_York_Airbnb.csv')\n",
    "\n",
    "print(data.shape)\n",
    "data.head()"
   ]
  },
  {
   "cell_type": "code",
   "execution_count": null,
   "id": "1bb93bca",
   "metadata": {},
   "outputs": [],
   "source": []
  },
  {
   "cell_type": "markdown",
   "id": "1c5586bd",
   "metadata": {},
   "source": [
    "# Tratamento dos dados"
   ]
  },
  {
   "cell_type": "code",
   "execution_count": 342,
   "id": "5f73e158",
   "metadata": {},
   "outputs": [
    {
     "data": {
      "text/plain": [
       "license                          1.00\n",
       "reviews_per_month                0.25\n",
       "last_review                      0.25\n",
       "host_name                        0.00\n",
       "name                             0.00\n",
       "minimum_nights                   0.00\n",
       "number_of_reviews_ltm            0.00\n",
       "availability_365                 0.00\n",
       "calculated_host_listings_count   0.00\n",
       "number_of_reviews                0.00\n",
       "id                               0.00\n",
       "room_type                        0.00\n",
       "longitude                        0.00\n",
       "latitude                         0.00\n",
       "neighbourhood                    0.00\n",
       "neighbourhood_group              0.00\n",
       "host_id                          0.00\n",
       "price                            0.00\n",
       "dtype: float64"
      ]
     },
     "execution_count": 342,
     "metadata": {},
     "output_type": "execute_result"
    }
   ],
   "source": [
    "(data.isnull().sum()/data.shape[0]).sort_values(ascending=False)"
   ]
  },
  {
   "cell_type": "markdown",
   "id": "ee0525e1",
   "metadata": {},
   "source": [
    "É possível constatar que:\n",
    " \n",
    " \n",
    " -A variável license possui 100% de seus valores faltantes\n",
    " \n",
    " -25% dos dados da variável reviews_per_month e last_review estão faltando\n",
    " \n",
    "Portanto, essas variáveis não serão consideradas para análise"
   ]
  },
  {
   "cell_type": "code",
   "execution_count": 343,
   "id": "a0d8c568",
   "metadata": {},
   "outputs": [
    {
     "data": {
      "text/plain": [
       "id                                  int64\n",
       "name                               object\n",
       "host_id                             int64\n",
       "host_name                          object\n",
       "neighbourhood_group                object\n",
       "neighbourhood                      object\n",
       "latitude                          float64\n",
       "longitude                         float64\n",
       "room_type                          object\n",
       "price                               int64\n",
       "minimum_nights                      int64\n",
       "number_of_reviews                   int64\n",
       "last_review                        object\n",
       "reviews_per_month                 float64\n",
       "calculated_host_listings_count      int64\n",
       "availability_365                    int64\n",
       "number_of_reviews_ltm               int64\n",
       "license                            object\n",
       "dtype: object"
      ]
     },
     "execution_count": 343,
     "metadata": {},
     "output_type": "execute_result"
    }
   ],
   "source": [
    "data.dtypes"
   ]
  },
  {
   "cell_type": "code",
   "execution_count": null,
   "id": "e967bf15",
   "metadata": {},
   "outputs": [],
   "source": []
  },
  {
   "cell_type": "code",
   "execution_count": 344,
   "id": "997dc0fa",
   "metadata": {},
   "outputs": [
    {
     "data": {
      "text/html": [
       "<div>\n",
       "<style scoped>\n",
       "    .dataframe tbody tr th:only-of-type {\n",
       "        vertical-align: middle;\n",
       "    }\n",
       "\n",
       "    .dataframe tbody tr th {\n",
       "        vertical-align: top;\n",
       "    }\n",
       "\n",
       "    .dataframe thead th {\n",
       "        text-align: right;\n",
       "    }\n",
       "</style>\n",
       "<table border=\"1\" class=\"dataframe\">\n",
       "  <thead>\n",
       "    <tr style=\"text-align: right;\">\n",
       "      <th></th>\n",
       "      <th>id</th>\n",
       "      <th>host_id</th>\n",
       "      <th>latitude</th>\n",
       "      <th>longitude</th>\n",
       "      <th>price</th>\n",
       "      <th>minimum_nights</th>\n",
       "      <th>number_of_reviews</th>\n",
       "      <th>reviews_per_month</th>\n",
       "      <th>calculated_host_listings_count</th>\n",
       "      <th>availability_365</th>\n",
       "      <th>number_of_reviews_ltm</th>\n",
       "    </tr>\n",
       "  </thead>\n",
       "  <tbody>\n",
       "    <tr>\n",
       "      <th>count</th>\n",
       "      <td>38277.00</td>\n",
       "      <td>38277.00</td>\n",
       "      <td>38277.00</td>\n",
       "      <td>38277.00</td>\n",
       "      <td>38277.00</td>\n",
       "      <td>38277.00</td>\n",
       "      <td>38277.00</td>\n",
       "      <td>28773.00</td>\n",
       "      <td>38277.00</td>\n",
       "      <td>38277.00</td>\n",
       "      <td>38277.00</td>\n",
       "    </tr>\n",
       "    <tr>\n",
       "      <th>mean</th>\n",
       "      <td>29622391.36</td>\n",
       "      <td>114830455.23</td>\n",
       "      <td>40.73</td>\n",
       "      <td>-73.95</td>\n",
       "      <td>170.86</td>\n",
       "      <td>21.62</td>\n",
       "      <td>23.30</td>\n",
       "      <td>1.72</td>\n",
       "      <td>17.75</td>\n",
       "      <td>134.29</td>\n",
       "      <td>5.03</td>\n",
       "    </tr>\n",
       "    <tr>\n",
       "      <th>std</th>\n",
       "      <td>17422394.08</td>\n",
       "      <td>129919366.83</td>\n",
       "      <td>0.06</td>\n",
       "      <td>0.05</td>\n",
       "      <td>305.10</td>\n",
       "      <td>29.57</td>\n",
       "      <td>50.42</td>\n",
       "      <td>4.40</td>\n",
       "      <td>59.15</td>\n",
       "      <td>143.20</td>\n",
       "      <td>14.69</td>\n",
       "    </tr>\n",
       "    <tr>\n",
       "      <th>min</th>\n",
       "      <td>2595.00</td>\n",
       "      <td>2438.00</td>\n",
       "      <td>40.50</td>\n",
       "      <td>-74.25</td>\n",
       "      <td>0.00</td>\n",
       "      <td>1.00</td>\n",
       "      <td>0.00</td>\n",
       "      <td>0.01</td>\n",
       "      <td>1.00</td>\n",
       "      <td>0.00</td>\n",
       "      <td>0.00</td>\n",
       "    </tr>\n",
       "    <tr>\n",
       "      <th>25%</th>\n",
       "      <td>13410478.00</td>\n",
       "      <td>11394622.00</td>\n",
       "      <td>40.69</td>\n",
       "      <td>-73.98</td>\n",
       "      <td>70.00</td>\n",
       "      <td>3.00</td>\n",
       "      <td>1.00</td>\n",
       "      <td>0.12</td>\n",
       "      <td>1.00</td>\n",
       "      <td>0.00</td>\n",
       "      <td>0.00</td>\n",
       "    </tr>\n",
       "    <tr>\n",
       "      <th>50%</th>\n",
       "      <td>30812691.00</td>\n",
       "      <td>50052968.00</td>\n",
       "      <td>40.73</td>\n",
       "      <td>-73.95</td>\n",
       "      <td>114.00</td>\n",
       "      <td>30.00</td>\n",
       "      <td>4.00</td>\n",
       "      <td>0.48</td>\n",
       "      <td>1.00</td>\n",
       "      <td>73.00</td>\n",
       "      <td>0.00</td>\n",
       "    </tr>\n",
       "    <tr>\n",
       "      <th>75%</th>\n",
       "      <td>46428551.00</td>\n",
       "      <td>200239515.00</td>\n",
       "      <td>40.76</td>\n",
       "      <td>-73.93</td>\n",
       "      <td>189.00</td>\n",
       "      <td>30.00</td>\n",
       "      <td>20.00</td>\n",
       "      <td>1.78</td>\n",
       "      <td>3.00</td>\n",
       "      <td>302.00</td>\n",
       "      <td>3.00</td>\n",
       "    </tr>\n",
       "    <tr>\n",
       "      <th>max</th>\n",
       "      <td>53665099.00</td>\n",
       "      <td>434408046.00</td>\n",
       "      <td>40.91</td>\n",
       "      <td>-73.71</td>\n",
       "      <td>10000.00</td>\n",
       "      <td>1250.00</td>\n",
       "      <td>1009.00</td>\n",
       "      <td>141.00</td>\n",
       "      <td>421.00</td>\n",
       "      <td>365.00</td>\n",
       "      <td>669.00</td>\n",
       "    </tr>\n",
       "  </tbody>\n",
       "</table>\n",
       "</div>"
      ],
      "text/plain": [
       "               id      host_id  latitude  longitude    price  minimum_nights  \\\n",
       "count    38277.00     38277.00  38277.00   38277.00 38277.00        38277.00   \n",
       "mean  29622391.36 114830455.23     40.73     -73.95   170.86           21.62   \n",
       "std   17422394.08 129919366.83      0.06       0.05   305.10           29.57   \n",
       "min       2595.00      2438.00     40.50     -74.25     0.00            1.00   \n",
       "25%   13410478.00  11394622.00     40.69     -73.98    70.00            3.00   \n",
       "50%   30812691.00  50052968.00     40.73     -73.95   114.00           30.00   \n",
       "75%   46428551.00 200239515.00     40.76     -73.93   189.00           30.00   \n",
       "max   53665099.00 434408046.00     40.91     -73.71 10000.00         1250.00   \n",
       "\n",
       "       number_of_reviews  reviews_per_month  calculated_host_listings_count  \\\n",
       "count           38277.00           28773.00                        38277.00   \n",
       "mean               23.30               1.72                           17.75   \n",
       "std                50.42               4.40                           59.15   \n",
       "min                 0.00               0.01                            1.00   \n",
       "25%                 1.00               0.12                            1.00   \n",
       "50%                 4.00               0.48                            1.00   \n",
       "75%                20.00               1.78                            3.00   \n",
       "max              1009.00             141.00                          421.00   \n",
       "\n",
       "       availability_365  number_of_reviews_ltm  \n",
       "count          38277.00               38277.00  \n",
       "mean             134.29                   5.03  \n",
       "std              143.20                  14.69  \n",
       "min                0.00                   0.00  \n",
       "25%                0.00                   0.00  \n",
       "50%               73.00                   0.00  \n",
       "75%              302.00                   3.00  \n",
       "max              365.00                 669.00  "
      ]
     },
     "execution_count": 344,
     "metadata": {},
     "output_type": "execute_result"
    }
   ],
   "source": [
    "data.describe()"
   ]
  },
  {
   "cell_type": "markdown",
   "id": "7759c7bd",
   "metadata": {},
   "source": [
    "Identificação dos Outliers:\n",
    "\n",
    "Observando os valores descritos pela função 'describe()' é possível indentificar que as variáveis listadas abaixo possuem outliers e portanto, precisam ser tratadas, com exceção de \"reviews_per_month\".\n",
    "\n",
    "Outliers:\n",
    "\n",
    "-price\n",
    "\n",
    "-minimum_nights\n",
    "\n",
    "-number_of_reviews\n",
    "\n",
    "-reviews_per_month\n",
    "\n",
    "-calculated_host_listings_count\n",
    "\n",
    "-number_of_reviews_ltm"
   ]
  },
  {
   "cell_type": "code",
   "execution_count": 345,
   "id": "5831074f",
   "metadata": {},
   "outputs": [],
   "source": [
    "def drop_outliers_LI (quant):\n",
    "    Q1 = quant.quantile(0.25)\n",
    "    Q3 = quant.quantile(0.75)\n",
    "    \n",
    "    LI = Q1 - (1.5*(Q3-Q1))\n",
    "    \n",
    "    \n",
    "    return LI\n",
    "\n",
    "\n",
    "def drop_outliers_LS (quant):\n",
    "    Q1 = quant.quantile(0.25)\n",
    "    Q3 = quant.quantile(0.75)\n",
    "    \n",
    "    LS = Q1 + (1.5*(Q3-Q1))\n",
    "   \n",
    "    return LS\n",
    "\n",
    "\n",
    "def groupby_graph_sum (index0, index1):\n",
    "    df=pd.DataFrame({'index0': [],\n",
    "                     'index1': []})\n",
    "    \n",
    "    df['index0']=index0\n",
    "    df['index1']=index1\n",
    "    \n",
    "    print(df.groupby(['index1'])['index0'].sum().plot(kind='bar', color=\"orange\"));\n",
    "    plt.xticks(rotation=60);\n",
    "    \n",
    "    return 0\n",
    "\n",
    "def heat_map(inform):\n",
    "    \n",
    "    correlation = inform.corr()\n",
    "    f, ax = plt.subplots(figsize=(10, 6))\n",
    "    return sns.heatmap(correlation,cmap=\"YlGnBu\", fmt='.2f', square='true', linecolor='white', linewidths=.5, ax=ax, annot=True);\n",
    "\n",
    "def groupby_function_sum (index0, index1):\n",
    "    df=pd.DataFrame({'index0': [],\n",
    "                     'index1': []})\n",
    "    \n",
    "    df['index0']=index0\n",
    "    df['index1']=index1\n",
    "    \n",
    "    table= df[['index0', 'index1']].groupby('index1').sum().reset_index()\n",
    "\n",
    "    return table.sort_values(by='index0', ascending=False, ignore_index=True)\n",
    "\n",
    "\n",
    "def groupby_function_count (index0, index1):\n",
    "    df=pd.DataFrame({'index0': [],\n",
    "                     'index1': []})\n",
    "    \n",
    "    df['index0']=index0\n",
    "    df['index1']=index1\n",
    "    \n",
    "    table= df[['index0', 'index1']].groupby('index1').count().reset_index()\n",
    "\n",
    "    return table.sort_values(by='index0', ascending=False, ignore_index=True)\n"
   ]
  },
  {
   "cell_type": "code",
   "execution_count": 346,
   "id": "2cfb3924",
   "metadata": {},
   "outputs": [],
   "source": [
    "data_clean = data.copy()"
   ]
  },
  {
   "cell_type": "code",
   "execution_count": 347,
   "id": "8018054e",
   "metadata": {},
   "outputs": [],
   "source": [
    "LS = drop_outliers_LS(data['price'])\n",
    "data_clean.drop(data_clean[data_clean.price>LS].index, axis=0, inplace=True)"
   ]
  },
  {
   "cell_type": "code",
   "execution_count": 348,
   "id": "34702ef4",
   "metadata": {},
   "outputs": [],
   "source": [
    "LS = drop_outliers_LS(data['minimum_nights'])\n",
    "data_clean.drop(data_clean[data_clean.minimum_nights>LS].index, axis=0, inplace=True)"
   ]
  },
  {
   "cell_type": "code",
   "execution_count": 349,
   "id": "a6c43bb7",
   "metadata": {},
   "outputs": [],
   "source": [
    "LS = drop_outliers_LS(data['number_of_reviews'])\n",
    "data_clean.drop(data_clean[data_clean.number_of_reviews>LS].index, axis=0, inplace=True)"
   ]
  },
  {
   "cell_type": "code",
   "execution_count": 350,
   "id": "4e8860a6",
   "metadata": {},
   "outputs": [],
   "source": [
    "LS = drop_outliers_LS(data['calculated_host_listings_count'])\n",
    "data_clean.drop(data_clean[data_clean.calculated_host_listings_count>LS].index, axis=0, inplace=True)"
   ]
  },
  {
   "cell_type": "code",
   "execution_count": 351,
   "id": "728162c1",
   "metadata": {},
   "outputs": [],
   "source": [
    "LS = drop_outliers_LS(data['number_of_reviews_ltm'])\n",
    "data_clean.drop(data_clean[data_clean.number_of_reviews_ltm>LS].index, axis=0, inplace=True)"
   ]
  },
  {
   "cell_type": "code",
   "execution_count": null,
   "id": "03940fb5",
   "metadata": {},
   "outputs": [],
   "source": []
  },
  {
   "cell_type": "code",
   "execution_count": 352,
   "id": "46352227",
   "metadata": {},
   "outputs": [
    {
     "data": {
      "text/html": [
       "<div>\n",
       "<style scoped>\n",
       "    .dataframe tbody tr th:only-of-type {\n",
       "        vertical-align: middle;\n",
       "    }\n",
       "\n",
       "    .dataframe tbody tr th {\n",
       "        vertical-align: top;\n",
       "    }\n",
       "\n",
       "    .dataframe thead th {\n",
       "        text-align: right;\n",
       "    }\n",
       "</style>\n",
       "<table border=\"1\" class=\"dataframe\">\n",
       "  <thead>\n",
       "    <tr style=\"text-align: right;\">\n",
       "      <th></th>\n",
       "      <th>id</th>\n",
       "      <th>host_id</th>\n",
       "      <th>latitude</th>\n",
       "      <th>longitude</th>\n",
       "      <th>price</th>\n",
       "      <th>minimum_nights</th>\n",
       "      <th>number_of_reviews</th>\n",
       "      <th>reviews_per_month</th>\n",
       "      <th>calculated_host_listings_count</th>\n",
       "      <th>availability_365</th>\n",
       "      <th>number_of_reviews_ltm</th>\n",
       "    </tr>\n",
       "  </thead>\n",
       "  <tbody>\n",
       "    <tr>\n",
       "      <th>count</th>\n",
       "      <td>17170.00</td>\n",
       "      <td>17170.00</td>\n",
       "      <td>17170.00</td>\n",
       "      <td>17170.00</td>\n",
       "      <td>17170.00</td>\n",
       "      <td>17170.00</td>\n",
       "      <td>17170.00</td>\n",
       "      <td>12259.00</td>\n",
       "      <td>17170.00</td>\n",
       "      <td>17170.00</td>\n",
       "      <td>17170.00</td>\n",
       "    </tr>\n",
       "    <tr>\n",
       "      <th>mean</th>\n",
       "      <td>26136031.28</td>\n",
       "      <td>87571671.57</td>\n",
       "      <td>40.73</td>\n",
       "      <td>-73.95</td>\n",
       "      <td>107.15</td>\n",
       "      <td>23.18</td>\n",
       "      <td>4.62</td>\n",
       "      <td>0.32</td>\n",
       "      <td>1.34</td>\n",
       "      <td>75.52</td>\n",
       "      <td>0.37</td>\n",
       "    </tr>\n",
       "    <tr>\n",
       "      <th>std</th>\n",
       "      <td>16540535.55</td>\n",
       "      <td>112888153.11</td>\n",
       "      <td>0.06</td>\n",
       "      <td>0.05</td>\n",
       "      <td>52.66</td>\n",
       "      <td>11.60</td>\n",
       "      <td>6.44</td>\n",
       "      <td>0.62</td>\n",
       "      <td>0.73</td>\n",
       "      <td>124.60</td>\n",
       "      <td>0.90</td>\n",
       "    </tr>\n",
       "    <tr>\n",
       "      <th>min</th>\n",
       "      <td>6872.00</td>\n",
       "      <td>2600.00</td>\n",
       "      <td>40.50</td>\n",
       "      <td>-74.25</td>\n",
       "      <td>0.00</td>\n",
       "      <td>1.00</td>\n",
       "      <td>0.00</td>\n",
       "      <td>0.01</td>\n",
       "      <td>1.00</td>\n",
       "      <td>0.00</td>\n",
       "      <td>0.00</td>\n",
       "    </tr>\n",
       "    <tr>\n",
       "      <th>25%</th>\n",
       "      <td>10564947.50</td>\n",
       "      <td>9748182.75</td>\n",
       "      <td>40.69</td>\n",
       "      <td>-73.98</td>\n",
       "      <td>65.00</td>\n",
       "      <td>14.00</td>\n",
       "      <td>0.00</td>\n",
       "      <td>0.05</td>\n",
       "      <td>1.00</td>\n",
       "      <td>0.00</td>\n",
       "      <td>0.00</td>\n",
       "    </tr>\n",
       "    <tr>\n",
       "      <th>50%</th>\n",
       "      <td>23613043.00</td>\n",
       "      <td>34741805.00</td>\n",
       "      <td>40.72</td>\n",
       "      <td>-73.95</td>\n",
       "      <td>99.00</td>\n",
       "      <td>30.00</td>\n",
       "      <td>2.00</td>\n",
       "      <td>0.14</td>\n",
       "      <td>1.00</td>\n",
       "      <td>0.00</td>\n",
       "      <td>0.00</td>\n",
       "    </tr>\n",
       "    <tr>\n",
       "      <th>75%</th>\n",
       "      <td>40894466.00</td>\n",
       "      <td>124316621.75</td>\n",
       "      <td>40.76</td>\n",
       "      <td>-73.93</td>\n",
       "      <td>149.00</td>\n",
       "      <td>30.00</td>\n",
       "      <td>6.00</td>\n",
       "      <td>0.34</td>\n",
       "      <td>1.00</td>\n",
       "      <td>103.75</td>\n",
       "      <td>0.00</td>\n",
       "    </tr>\n",
       "    <tr>\n",
       "      <th>max</th>\n",
       "      <td>53660977.00</td>\n",
       "      <td>434408046.00</td>\n",
       "      <td>40.91</td>\n",
       "      <td>-73.71</td>\n",
       "      <td>248.00</td>\n",
       "      <td>43.00</td>\n",
       "      <td>29.00</td>\n",
       "      <td>19.00</td>\n",
       "      <td>4.00</td>\n",
       "      <td>365.00</td>\n",
       "      <td>4.00</td>\n",
       "    </tr>\n",
       "  </tbody>\n",
       "</table>\n",
       "</div>"
      ],
      "text/plain": [
       "               id      host_id  latitude  longitude    price  minimum_nights  \\\n",
       "count    17170.00     17170.00  17170.00   17170.00 17170.00        17170.00   \n",
       "mean  26136031.28  87571671.57     40.73     -73.95   107.15           23.18   \n",
       "std   16540535.55 112888153.11      0.06       0.05    52.66           11.60   \n",
       "min       6872.00      2600.00     40.50     -74.25     0.00            1.00   \n",
       "25%   10564947.50   9748182.75     40.69     -73.98    65.00           14.00   \n",
       "50%   23613043.00  34741805.00     40.72     -73.95    99.00           30.00   \n",
       "75%   40894466.00 124316621.75     40.76     -73.93   149.00           30.00   \n",
       "max   53660977.00 434408046.00     40.91     -73.71   248.00           43.00   \n",
       "\n",
       "       number_of_reviews  reviews_per_month  calculated_host_listings_count  \\\n",
       "count           17170.00           12259.00                        17170.00   \n",
       "mean                4.62               0.32                            1.34   \n",
       "std                 6.44               0.62                            0.73   \n",
       "min                 0.00               0.01                            1.00   \n",
       "25%                 0.00               0.05                            1.00   \n",
       "50%                 2.00               0.14                            1.00   \n",
       "75%                 6.00               0.34                            1.00   \n",
       "max                29.00              19.00                            4.00   \n",
       "\n",
       "       availability_365  number_of_reviews_ltm  \n",
       "count          17170.00               17170.00  \n",
       "mean              75.52                   0.37  \n",
       "std              124.60                   0.90  \n",
       "min                0.00                   0.00  \n",
       "25%                0.00                   0.00  \n",
       "50%                0.00                   0.00  \n",
       "75%              103.75                   0.00  \n",
       "max              365.00                   4.00  "
      ]
     },
     "execution_count": 352,
     "metadata": {},
     "output_type": "execute_result"
    }
   ],
   "source": [
    "data_clean.describe()"
   ]
  },
  {
   "cell_type": "code",
   "execution_count": null,
   "id": "47324219",
   "metadata": {},
   "outputs": [],
   "source": []
  },
  {
   "cell_type": "code",
   "execution_count": null,
   "id": "73600ac7",
   "metadata": {},
   "outputs": [],
   "source": [
    "data_clean.hist(bins=10, figsize=(15,10));"
   ]
  },
  {
   "cell_type": "code",
   "execution_count": null,
   "id": "d06756fa",
   "metadata": {},
   "outputs": [],
   "source": []
  },
  {
   "cell_type": "markdown",
   "id": "c246181c",
   "metadata": {},
   "source": [
    "# Correlação das variáveis"
   ]
  },
  {
   "cell_type": "markdown",
   "id": "bc20e001",
   "metadata": {},
   "source": [
    "De acordo com o mapa de calor abaixo, é possível verificar que as variáveis possuem pouca correlação entre si. No entanto, algumas análises e perguntas de negócio podem ser respondidas, conforme é feito adiante."
   ]
  },
  {
   "cell_type": "code",
   "execution_count": null,
   "id": "b4dc7b33",
   "metadata": {},
   "outputs": [],
   "source": [
    "heat_map(data_clean)"
   ]
  },
  {
   "cell_type": "code",
   "execution_count": null,
   "id": "f9c8d976",
   "metadata": {},
   "outputs": [],
   "source": []
  },
  {
   "cell_type": "code",
   "execution_count": null,
   "id": "98d654fe",
   "metadata": {},
   "outputs": [],
   "source": []
  },
  {
   "cell_type": "code",
   "execution_count": null,
   "id": "4b027cf7",
   "metadata": {},
   "outputs": [],
   "source": []
  },
  {
   "cell_type": "markdown",
   "id": "dcd8d319",
   "metadata": {},
   "source": [
    "# Em qual bairro estão situados os imóveis de hosts mais alugados?"
   ]
  },
  {
   "cell_type": "code",
   "execution_count": null,
   "id": "9037270b",
   "metadata": {},
   "outputs": [],
   "source": [
    "groupby_graph_sum(data_clean['calculated_host_listings_count'],data_clean['neighbourhood_group'])"
   ]
  },
  {
   "cell_type": "code",
   "execution_count": null,
   "id": "81ff3f5b",
   "metadata": {},
   "outputs": [],
   "source": []
  },
  {
   "cell_type": "markdown",
   "id": "275fcdd3",
   "metadata": {},
   "source": [
    "# Há bairros com concentração de preços? Isso está relacionado a disponibilidade de dias por ano?"
   ]
  },
  {
   "cell_type": "code",
   "execution_count": null,
   "id": "06adf4b2",
   "metadata": {},
   "outputs": [],
   "source": [
    "media_dispon = pd.DataFrame({'Bairro': [],\n",
    "                             'Imóveis': [],\n",
    "                             'Disponibilidade': [],\n",
    "                             'Disponibilidade_media': [],\n",
    "                             'perc_disp': []})\n",
    "\n",
    "media_dispon[['Bairro', 'Imóveis']]=groupby_function_count(data_clean['host_id'],data_clean['neighbourhood_group'])\n",
    "media_dispon[['Bairro', 'Disponibilidade']]=groupby_function_sum(data_clean['availability_365'],data_clean['neighbourhood_group'])\n",
    "\n",
    "media_dispon['Disponibilidade_media'] = media_dispon['Disponibilidade']/media_dispon['Imóveis']\n",
    "\n",
    "media_dispon['perc_disp'] = (media_dispon['Disponibilidade_media']/365)*100"
   ]
  },
  {
   "cell_type": "code",
   "execution_count": null,
   "id": "44a2f530",
   "metadata": {},
   "outputs": [],
   "source": [
    "plt.rcParams['figure.figsize'] = (15,3)\n",
    "plt.subplot(1,2,1)\n",
    "plt.title('Concentração dos preços por região')\n",
    "groupby_graph_sum(data_clean['price'],data_clean['neighbourhood_group'])\n",
    "\n",
    "\n",
    "plt.subplot(1,2,2)\n",
    "plt.title('Percentual de dias disponíveis por ano')\n",
    "groupby_graph_sum(media_dispon['perc_disp'],media_dispon['Bairro'])"
   ]
  },
  {
   "cell_type": "markdown",
   "id": "bd4a7cd3",
   "metadata": {},
   "source": [
    "De acordo com os gráficos, é possível perceber que há concentração de preços principalmente nas regiões de Manhattan e Brooklyn, enquanto nessas duas regiões, o percentual de dias disponíveis para alugar os imóveis tende a ser menor. O contrário ocorre com as regiões de Staten Island e Bronx, no qual há pouca concentração de preços e o percentual de dias disponíveis para locação é maior."
   ]
  },
  {
   "cell_type": "code",
   "execution_count": null,
   "id": "bc3316e9",
   "metadata": {},
   "outputs": [],
   "source": []
  },
  {
   "cell_type": "markdown",
   "id": "a5873827",
   "metadata": {},
   "source": [
    "# Tipo de imóvel preferido pelos hóspedes"
   ]
  },
  {
   "cell_type": "markdown",
   "id": "4f8bc80c",
   "metadata": {},
   "source": [
    "# Brooklyn"
   ]
  },
  {
   "cell_type": "code",
   "execution_count": null,
   "id": "f38d58a1",
   "metadata": {},
   "outputs": [],
   "source": [
    "Brooklyn=data_clean.loc[data_clean.neighbourhood_group=='Brooklyn', :]"
   ]
  },
  {
   "cell_type": "code",
   "execution_count": null,
   "id": "b3d47bfd",
   "metadata": {},
   "outputs": [],
   "source": [
    "Brooklyn_analysis=pd.DataFrame({'room_type': [],\n",
    "                                'qty_room_type': [],\n",
    "                                'available_days': [],\n",
    "                                'room_available': [],\n",
    "                                'perc_room_type': [],\n",
    "                                'perc_days': []})\n",
    "\n",
    "Brooklyn_analysis['room_type']=Brooklyn['room_type'].unique()\n",
    "Brooklyn_analysis[['room_type', 'qty_room_type']] = groupby_function_count(Brooklyn['id'],Brooklyn['room_type'])\n",
    "Brooklyn_analysis[['room_type', 'available_days']]=groupby_function_sum(Brooklyn['availability_365'], Brooklyn['room_type'])\n",
    "Brooklyn_analysis['room_available']=(Brooklyn_analysis['available_days'])/(Brooklyn_analysis['qty_room_type'])\n",
    "Brooklyn_analysis['perc_room_type']=(Brooklyn_analysis['qty_room_type']/(Brooklyn_analysis['qty_room_type'].sum()))*100\n",
    "Brooklyn_analysis['perc_days']=(Brooklyn_analysis['available_days']/(Brooklyn_analysis['available_days'].sum()))*100"
   ]
  },
  {
   "cell_type": "code",
   "execution_count": null,
   "id": "a259562b",
   "metadata": {},
   "outputs": [],
   "source": []
  },
  {
   "cell_type": "code",
   "execution_count": null,
   "id": "1c7b6fc4",
   "metadata": {},
   "outputs": [],
   "source": []
  },
  {
   "cell_type": "code",
   "execution_count": null,
   "id": "479c9bc0",
   "metadata": {},
   "outputs": [],
   "source": [
    "plt.rcParams['figure.figsize'] = (15,3)\n",
    "plt.subplot(1,2,1)\n",
    "plt.title('Percentual de tipos de quarto')\n",
    "groupby_graph_sum(Brooklyn_analysis['perc_room_type'],Brooklyn_analysis['room_type'])\n",
    "\n",
    "\n",
    "plt.subplot(1,2,2)\n",
    "plt.title('Percentual de dias disponíveis por quarto')\n",
    "groupby_graph_sum(Brooklyn_analysis['perc_days'],Brooklyn_analysis['room_type'])"
   ]
  },
  {
   "cell_type": "code",
   "execution_count": null,
   "id": "93f7bdf9",
   "metadata": {},
   "outputs": [],
   "source": [
    "Brooklyn_analysis"
   ]
  },
  {
   "cell_type": "markdown",
   "id": "c5fd0ac4",
   "metadata": {},
   "source": [
    "# Manhattan"
   ]
  },
  {
   "cell_type": "code",
   "execution_count": null,
   "id": "a5d5659e",
   "metadata": {},
   "outputs": [],
   "source": [
    "Manhattan=data_clean.loc[data_clean.neighbourhood_group=='Manhattan', :]"
   ]
  },
  {
   "cell_type": "code",
   "execution_count": null,
   "id": "34d53f40",
   "metadata": {},
   "outputs": [],
   "source": [
    "Manhattan_analysis=pd.DataFrame({'room_type': [],\n",
    "                                'qty_room_type': [],\n",
    "                                'available_days': [],\n",
    "                                'room_available': [],\n",
    "                                'perc_room_type': [],\n",
    "                                'perc_days': []})\n",
    "\n",
    "Manhattan_analysis['room_type']=Manhattan['room_type'].unique()\n",
    "Manhattan_analysis[['room_type', 'qty_room_type']] = groupby_function_count(Manhattan['id'],Manhattan['room_type'])\n",
    "Manhattan_analysis[['room_type', 'available_days']]=groupby_function_sum(Manhattan['availability_365'], Manhattan['room_type'])\n",
    "Manhattan_analysis['room_available']=(Manhattan_analysis['available_days'])/(Manhattan_analysis['qty_room_type'])\n",
    "Manhattan_analysis['perc_room_type']=(Manhattan_analysis['qty_room_type']/(Manhattan_analysis['qty_room_type'].sum()))*100\n",
    "Manhattan_analysis['perc_days']=(Manhattan_analysis['available_days']/(Manhattan_analysis['available_days'].sum()))*100"
   ]
  },
  {
   "cell_type": "code",
   "execution_count": null,
   "id": "ca5eb4f4",
   "metadata": {},
   "outputs": [],
   "source": [
    "plt.rcParams['figure.figsize'] = (15,3)\n",
    "plt.subplot(1,2,1)\n",
    "plt.title('Percentual de tipos de quarto')\n",
    "groupby_graph_sum(Manhattan_analysis['perc_room_type'],Manhattan_analysis['room_type'])\n",
    "\n",
    "\n",
    "plt.subplot(1,2,2)\n",
    "plt.title('Percentual de dias disponíveis por quarto')\n",
    "groupby_graph_sum(Manhattan_analysis['perc_days'],Manhattan_analysis['room_type'])"
   ]
  },
  {
   "cell_type": "code",
   "execution_count": null,
   "id": "97695868",
   "metadata": {},
   "outputs": [],
   "source": [
    "Manhattan_analysis"
   ]
  },
  {
   "cell_type": "markdown",
   "id": "7fff8567",
   "metadata": {},
   "source": [
    "# Queens"
   ]
  },
  {
   "cell_type": "code",
   "execution_count": null,
   "id": "22a960d1",
   "metadata": {},
   "outputs": [],
   "source": [
    "Queens=data_clean.loc[data_clean.neighbourhood_group=='Queens', :]"
   ]
  },
  {
   "cell_type": "code",
   "execution_count": null,
   "id": "3c519c0d",
   "metadata": {},
   "outputs": [],
   "source": [
    "Queens_analysis=pd.DataFrame({'room_type': [],\n",
    "                                'qty_room_type': [],\n",
    "                                'available_days': [],\n",
    "                                'room_available': [],\n",
    "                                'perc_room_type': [],\n",
    "                                'perc_days': []})\n",
    "\n",
    "Queens_analysis['room_type']=Queens['room_type'].unique()\n",
    "Queens_analysis[['room_type', 'qty_room_type']] = groupby_function_count(Queens['id'],Queens['room_type'])\n",
    "Queens_analysis[['room_type', 'available_days']]=groupby_function_sum(Queens['availability_365'], Queens['room_type'])\n",
    "Queens_analysis['room_available']=(Queens_analysis['available_days'])/(Queens_analysis['qty_room_type'])\n",
    "Queens_analysis['perc_room_type']=(Queens_analysis['qty_room_type']/(Queens_analysis['qty_room_type'].sum()))*100\n",
    "Queens_analysis['perc_days']=(Queens_analysis['available_days']/(Queens_analysis['available_days'].sum()))*100"
   ]
  },
  {
   "cell_type": "code",
   "execution_count": null,
   "id": "f6322ebd",
   "metadata": {},
   "outputs": [],
   "source": [
    "plt.rcParams['figure.figsize'] = (15,3)\n",
    "plt.subplot(1,2,1)\n",
    "plt.title('Percentual de tipos de quarto')\n",
    "groupby_graph_sum(Queens_analysis['perc_room_type'],Queens_analysis['room_type'])\n",
    "\n",
    "\n",
    "plt.subplot(1,2,2)\n",
    "plt.title('Percentual de dias disponíveis por quarto')\n",
    "groupby_graph_sum(Queens_analysis['perc_days'],Queens_analysis['room_type'])"
   ]
  },
  {
   "cell_type": "code",
   "execution_count": null,
   "id": "71a6ed45",
   "metadata": {},
   "outputs": [],
   "source": [
    "Queens_analysis"
   ]
  },
  {
   "cell_type": "markdown",
   "id": "32b41abe",
   "metadata": {},
   "source": [
    "# Bronx"
   ]
  },
  {
   "cell_type": "code",
   "execution_count": null,
   "id": "19f13e25",
   "metadata": {},
   "outputs": [],
   "source": [
    "Bronx=data_clean.loc[data_clean.neighbourhood_group=='Bronx', :]"
   ]
  },
  {
   "cell_type": "code",
   "execution_count": null,
   "id": "63b90f6d",
   "metadata": {},
   "outputs": [],
   "source": [
    "Bronx_analysis=pd.DataFrame({'room_type': [],\n",
    "                                'qty_room_type': [],\n",
    "                                'available_days': [],\n",
    "                                'room_available': [],\n",
    "                                'perc_room_type': [],\n",
    "                                'perc_days': []})\n",
    "\n",
    "Bronx_analysis['room_type']=Bronx['room_type'].unique()\n",
    "Bronx_analysis[['room_type', 'qty_room_type']] = groupby_function_count(Bronx['id'],Bronx['room_type'])\n",
    "Bronx_analysis[['room_type', 'available_days']]=groupby_function_sum(Bronx['availability_365'], Bronx['room_type'])\n",
    "Bronx_analysis['room_available']=(Bronx_analysis['available_days'])/(Bronx_analysis['qty_room_type'])\n",
    "Bronx_analysis['perc_room_type']=(Bronx_analysis['qty_room_type']/(Bronx_analysis['qty_room_type'].sum()))*100\n",
    "Bronx_analysis['perc_days']=(Bronx_analysis['available_days']/(Bronx_analysis['available_days'].sum()))*100"
   ]
  },
  {
   "cell_type": "code",
   "execution_count": null,
   "id": "c75188f6",
   "metadata": {},
   "outputs": [],
   "source": [
    "plt.rcParams['figure.figsize'] = (15,3)\n",
    "plt.subplot(1,2,1)\n",
    "plt.title('Percentual de tipos de quarto')\n",
    "groupby_graph_sum(Bronx_analysis['perc_room_type'],Bronx_analysis['room_type'])\n",
    "\n",
    "\n",
    "plt.subplot(1,2,2)\n",
    "plt.title('Percentual de dias disponíveis por quarto')\n",
    "groupby_graph_sum(Bronx_analysis['perc_days'],Bronx_analysis['room_type'])"
   ]
  },
  {
   "cell_type": "code",
   "execution_count": null,
   "id": "83e1c7dd",
   "metadata": {},
   "outputs": [],
   "source": [
    "Bronx_analysis"
   ]
  },
  {
   "cell_type": "code",
   "execution_count": null,
   "id": "eddfa960",
   "metadata": {},
   "outputs": [],
   "source": []
  },
  {
   "cell_type": "markdown",
   "id": "8ab0bc20",
   "metadata": {},
   "source": [
    "# Staten Island"
   ]
  },
  {
   "cell_type": "code",
   "execution_count": null,
   "id": "9a157db7",
   "metadata": {},
   "outputs": [],
   "source": [
    "Staten_island=data_clean.loc[data_clean.neighbourhood_group=='Staten Island', :]"
   ]
  },
  {
   "cell_type": "code",
   "execution_count": null,
   "id": "b5ba3ad1",
   "metadata": {},
   "outputs": [],
   "source": [
    "Staten_island_analysis=pd.DataFrame({'room_type': [],\n",
    "                                'qty_room_type': [],\n",
    "                                'available_days': [],\n",
    "                                'room_available': [],\n",
    "                                'perc_room_type': [],\n",
    "                                'perc_days': []})\n",
    "\n",
    "Staten_island_analysis['room_type']=Bronx['room_type'].unique()\n",
    "Staten_island_analysis[['room_type', 'qty_room_type']] = groupby_function_count(Staten_island['id'],Staten_island['room_type'])\n",
    "Staten_island_analysis[['room_type', 'available_days']]=groupby_function_sum(Staten_island['availability_365'], Staten_island['room_type'])\n",
    "Staten_island_analysis['room_available']=(Staten_island_analysis['available_days'])/(Staten_island_analysis['qty_room_type'])\n",
    "Staten_island_analysis['perc_room_type']=(Staten_island_analysis['qty_room_type']/(Staten_island_analysis['qty_room_type'].sum()))*100\n",
    "Staten_island_analysis['perc_days']=(Staten_island_analysis['available_days']/(Staten_island_analysis['available_days'].sum()))*100"
   ]
  },
  {
   "cell_type": "code",
   "execution_count": null,
   "id": "65c1f10b",
   "metadata": {},
   "outputs": [],
   "source": [
    "plt.rcParams['figure.figsize'] = (15,3)\n",
    "plt.subplot(1,2,1)\n",
    "plt.title('Percentual de tipos de quarto')\n",
    "groupby_graph_sum(Staten_island_analysis['perc_room_type'],Staten_island_analysis['room_type'])\n",
    "\n",
    "\n",
    "plt.subplot(1,2,2)\n",
    "plt.title('Percentual de dias disponíveis por quarto')\n",
    "groupby_graph_sum(Staten_island_analysis['perc_days'],Staten_island_analysis['room_type'])"
   ]
  },
  {
   "cell_type": "code",
   "execution_count": null,
   "id": "3f27b9d2",
   "metadata": {},
   "outputs": [],
   "source": [
    "Staten_island_analysis"
   ]
  },
  {
   "cell_type": "code",
   "execution_count": null,
   "id": "eb978e64",
   "metadata": {},
   "outputs": [],
   "source": []
  },
  {
   "cell_type": "code",
   "execution_count": null,
   "id": "278fb3bf",
   "metadata": {},
   "outputs": [],
   "source": []
  },
  {
   "cell_type": "code",
   "execution_count": null,
   "id": "2d4d3ee0",
   "metadata": {},
   "outputs": [],
   "source": [
    "data_clean.plot(kind=\"scatter\", x='longitude', y='latitude', alpha=0.6, c=data_clean['price'], s=8,\n",
    "                cmap=plt.get_cmap('jet'), figsize=(12,8));"
   ]
  },
  {
   "cell_type": "code",
   "execution_count": null,
   "id": "692fa8fa",
   "metadata": {},
   "outputs": [],
   "source": []
  },
  {
   "cell_type": "markdown",
   "id": "2079fddf",
   "metadata": {},
   "source": [
    "# Resultados e discussões"
   ]
  },
  {
   "cell_type": "markdown",
   "id": "516895dd",
   "metadata": {},
   "source": [
    "Conforme analisado, há concentração de imóveis nas regiões de Manhattan e Brooklyn, por essa razão, essas duas regiões estão com a maior concentração de preços. Além disso, ambas as regiões possuem todos os tipos de quarto informados no dataframe e os tipod de quartos mais disponibilizados são apartamentos e quartos privados.\n",
    "\n",
    "Analisando o percentual de dias disponíveis para locação dos imóveis, percebe-se que no Brooklyn, quartos do tipo apartamento possuem um percentual menor de dias disponíveis para locação em relação ao quarto privado. Já na região de Manhattan, imóveis do tipo privado possuem um percentual menor de dias disponíveis para locação em relação aos apartementos. Contudo, analisando esses dados não é possível afirmar se essa menor disponibilidade dos imóveis na região estão diretamente ligadas a preferência das pessoas por cada tipo de imóvel ou se é devido ao fato da oferta de cada um nessas regiões (hipótese mais provável).\n",
    "\n",
    "Uma observação a ser feita, também, é que apesar da região de Manhattan oferecer o maior número de imóveis na cidade de Nova York, ela também concentra maiores preços, podendo esse ser um indicativo de que a região é a mais procurada por locatários do que outras. Essa hipótese, além dos dados, é reforçada pelos diversos pontos turísticos presentes na região, como o Rockfeller Center, Wall Street, Times Square, Central Park e muitos outros.\n",
    "\n",
    "De acordo com tudo o que foi analisado, uma futura pesquisa pode ter um foco em coletar os dados relacionados aos clientes, ou seja, dados sobre um grupo de pessoas que alugaram os imóveis na cidade de Nova York. Uma variável interessante seria o período no qual foi alugado, pois, poderíamos realizar uma análise temporal das alocações, identificando se há picos de procura sazonais, afirmar com maior precisão a preferência dos clientes e cruzar esses dados com as análises anteriores."
   ]
  },
  {
   "cell_type": "code",
   "execution_count": null,
   "id": "dc0587df",
   "metadata": {},
   "outputs": [],
   "source": []
  },
  {
   "cell_type": "markdown",
   "id": "0940d533",
   "metadata": {},
   "source": [
    "# Conclusão"
   ]
  },
  {
   "cell_type": "markdown",
   "id": "db65a026",
   "metadata": {},
   "source": [
    "A análise exploratória dos dados realizada nesse trabalho teve por objetivo tirar informações estatísticas do conjunto de dados apresentado e gerar insights com relação aos inóveis disponíveis para locação na plataforma Airbnb, na cidade de Nova York. Apesar de haver algumas limitações com relação alguns dados, por exemplo, 25% dos dados de review e review por mês estarem ausentes e não haver dados referente ao período que ficou alugado e por qual cliente foi alugado, o trabalho realizado conseguiu gerar resultados interessantes e insights que podem ser muito bem aproveitados.\n",
    "\n",
    "A constatação de uma região com maior número de imóveis, porém com maior concentração de preços, é um forte indicativo de maior procura, por isso, é uma região com oportunidades para negócios do tipo, porém, com grande concorrência. Além disso, há a possibilidade de realizar uma futura análise buscando outras variáveis com maior correlação, já que, conforme indicado pelo mapa de calor, a correlação das variáveis não são altas."
   ]
  },
  {
   "cell_type": "code",
   "execution_count": null,
   "id": "9f49ffc8",
   "metadata": {},
   "outputs": [],
   "source": []
  }
 ],
 "metadata": {
  "kernelspec": {
   "display_name": "Python 3 (ipykernel)",
   "language": "python",
   "name": "python3"
  },
  "language_info": {
   "codemirror_mode": {
    "name": "ipython",
    "version": 3
   },
   "file_extension": ".py",
   "mimetype": "text/x-python",
   "name": "python",
   "nbconvert_exporter": "python",
   "pygments_lexer": "ipython3",
   "version": "3.9.7"
  },
  "varInspector": {
   "cols": {
    "lenName": 16,
    "lenType": 16,
    "lenVar": 40
   },
   "kernels_config": {
    "python": {
     "delete_cmd_postfix": "",
     "delete_cmd_prefix": "del ",
     "library": "var_list.py",
     "varRefreshCmd": "print(var_dic_list())"
    },
    "r": {
     "delete_cmd_postfix": ") ",
     "delete_cmd_prefix": "rm(",
     "library": "var_list.r",
     "varRefreshCmd": "cat(var_dic_list()) "
    }
   },
   "types_to_exclude": [
    "module",
    "function",
    "builtin_function_or_method",
    "instance",
    "_Feature"
   ],
   "window_display": false
  }
 },
 "nbformat": 4,
 "nbformat_minor": 5
}
